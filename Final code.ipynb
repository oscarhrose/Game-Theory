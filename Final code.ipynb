{
 "cells": [
  {
   "cell_type": "markdown",
   "id": "1b0e0868-7051-4ed5-9774-8e591cb215a2",
   "metadata": {},
   "source": [
    "## Required Packages"
   ]
  },
  {
   "cell_type": "code",
   "execution_count": 45,
   "id": "7b63ff10-dc0b-401d-8b42-2ca29c3a9cd3",
   "metadata": {
    "tags": []
   },
   "outputs": [],
   "source": [
    "## load packages required \n",
    "\n",
    "import random\n",
    "from numpy import array\n",
    "from numpy import sum\n",
    "from typing import Tuple, Union\n",
    "import numpy as np "
   ]
  },
  {
   "cell_type": "markdown",
   "id": "040741b0-846a-4256-98c4-51edff643c40",
   "metadata": {},
   "source": [
    "## Actions "
   ]
  },
  {
   "cell_type": "code",
   "execution_count": 9,
   "id": "bab01e52",
   "metadata": {
    "jupyter": {
     "source_hidden": true
    },
    "tags": []
   },
   "outputs": [],
   "source": [
    "## Actions.py\n",
    "\n",
    "\"\"\"Actions for the Prisoner's Dilemma and related utilities.\n",
    "For convenience in other modules you can alias the actions:\n",
    "from axelrod import Action\n",
    "C, D = Action.C, Action.D\n",
    "\"\"\"\n",
    "\n",
    "from enum import Enum\n",
    "from functools import total_ordering\n",
    "from typing import Iterable, Tuple\n",
    "\n",
    "@total_ordering\n",
    "class Action(Enum):\n",
    "    \"\"\"Core actions in the Prisoner's Dilemma.\n",
    "    There are only two possible actions, namely Cooperate or Defect,\n",
    "    which are called C and D for convenience.\n",
    "    \"\"\"\n",
    "\n",
    "    C = 0  # Cooperate\n",
    "    D = 1  # Defect\n",
    "\n",
    "    def __lt__(self, other):\n",
    "        return self.value < other.value\n",
    "\n",
    "    def __repr__(self):\n",
    "        return self.name\n",
    "\n",
    "    def __str__(self):\n",
    "        return self.name\n",
    "\n",
    "    def flip(self):\n",
    "        \"\"\"Returns the opposite Action.\"\"\"\n",
    "        if self == Action.C:\n",
    "            return Action.D\n",
    "        return Action.C"
   ]
  },
  {
   "cell_type": "markdown",
   "id": "cb5a9e03-4ba2-4920-b048-3eea6410a08f",
   "metadata": {},
   "source": [
    "## Player Class and Strategies"
   ]
  },
  {
   "cell_type": "code",
   "execution_count": 55,
   "id": "0c19818d",
   "metadata": {
    "tags": []
   },
   "outputs": [],
   "source": [
    "## creation of the player class and stratagies\n",
    "\n",
    "C, D = Action.C, Action.D  \n",
    "\n",
    "class Player(object):\n",
    "    \n",
    "    name = \"Player\"\n",
    "    \n",
    "    def __init__(self):\n",
    "        \"\"\"Initial class setup.\"\"\"\n",
    "        ## self._history = History()\n",
    "        self._history = [] \n",
    "        self._opponent_history = []\n",
    "                           \n",
    "    def update_history(self, play):\n",
    "        self._history.append(play)\n",
    "\n",
    "    def history(self):\n",
    "        return self._history\n",
    "\n",
    "## Strategy Classes;\n",
    "        \n",
    "class Defector(Player):\n",
    "    \"\"\"A player who only ever defects.\n",
    "    \"\"\"\n",
    "    name = \"Defector\"\n",
    "\n",
    "    def strategy(self) -> Action:\n",
    "        \"\"\"Actual strategy definition that determines player's action.\"\"\"\n",
    "        return D    \n",
    "    \n",
    "    \n",
    "class Cooperator(Player):\n",
    "    \"\"\"A player who only ever cooperates.\n",
    "    \"\"\"\n",
    "    name = \"Cooperator\"\n",
    "\n",
    "    def strategy(self) -> Action:\n",
    "        \"\"\"Actual strategy definition that determines player's action.\"\"\"\n",
    "        return C\n",
    "\n",
    "    \n",
    "class Alternator(Player):\n",
    "    \"\"\"\n",
    "    A player who alternates between cooperating and defecting.\n",
    "    \"\"\"\n",
    "    name = \"Alternator\"\n",
    "    \n",
    "    def strategy(self) -> Action:\n",
    "        \"\"\"Actual strategy definition that determines player's action.\"\"\"\n",
    "        if len(self._history) == 0:\n",
    "            return C\n",
    "        if self._history[-1] == C:\n",
    "            return D\n",
    "        return C    \n",
    "\n",
    "class Random(Player):\n",
    "    \"\"\"\n",
    "    A player who randomly alternates between cooperating and defecting.\n",
    "    \"\"\"\n",
    "    name = \"Random\"\n",
    "    \n",
    "    def strategy(self) -> Action:\n",
    "        \"\"\"Actual strategy definition that determines player's action.\"\"\"\n",
    "        return random.choice((C, D))\n",
    "\n",
    "class T4T(Player):\n",
    "    \"\"\"\n",
    "    A player who cooperates until one of his opponents defects.\n",
    "    \"\"\"\n",
    "    name = \"T4T\"\n",
    "    \n",
    "    def strategy(self) -> Action:\n",
    "        \"\"\"Actual strategy definition that determines player's action.\"\"\"\n",
    "        if len(self._opponent_history) == 0:\n",
    "            return C\n",
    "        if D in self._opponent_history[-1]:\n",
    "            return D\n",
    "        return C"
   ]
  },
  {
   "cell_type": "markdown",
   "id": "f5bd008a-0935-448a-adba-5e6deb4960b3",
   "metadata": {},
   "source": [
    "## Game Design"
   ]
  },
  {
   "cell_type": "code",
   "execution_count": 11,
   "id": "8353edf9",
   "metadata": {
    "jupyter": {
     "source_hidden": true
    },
    "tags": []
   },
   "outputs": [],
   "source": [
    "Score = Union[int, float]\n",
    "\n",
    "class Game(object):\n",
    "    \"\"\"Container for the game matrix and scoring logic.\n",
    "    Attributes\n",
    "    ----------\n",
    "    scores: dict\n",
    "        The numerical score attribute to all combinations of action triplets.\n",
    "    \"\"\"\n",
    "\n",
    "    def __init__(        \n",
    "        self, q: Score = 7, s: Score = 3, t: Score = 9, u: Score = 0, v: Score = 5, p: Score = 1\n",
    "    ) -> None:\n",
    "        \n",
    "        \"\"\"Create a new game object.\n",
    "        Parameters\n",
    "        ----------\n",
    "        q: int or float\n",
    "            Score obtained by all players for mutual cooperation.\n",
    "        s: int or float\n",
    "            Score obtained by a player for cooperating with the majority (who are cooperating).\n",
    "        t: int or float\n",
    "            Score obtained by a player for defecting against the majority (who are cooperating).\n",
    "        u: int or float\n",
    "            Score obtained by a player for cooperating against the majority (who are defecting).        \n",
    "        v: int or float\n",
    "            Score obtained by a player for defecting with the majority (who are defecting).\n",
    "        p: int or float\n",
    "            Score obtained by all players for mutual defection.\n",
    "        \"\"\"\n",
    "        \n",
    "        self.scores = {\n",
    "            (C, C, C): (q, q, q),\n",
    "            \n",
    "\n",
    "            (C, C, D): (s, s, t),\n",
    "            (C, D, C): (s, t, s),\n",
    "            (D, C, C): (t, s, s),\n",
    "            \n",
    "            (C, D, D): (u, v, v),\n",
    "            (D, C, D): (v, u, v),\n",
    "            (D, D, C): (v, v, u),            \n",
    "            \n",
    "            (D, D, D): (p, p, p),\n",
    "        }\n",
    "\n",
    "    def score(self, triple: Tuple[Action, Action, Action]) -> Tuple[Score, Score, Score]:\n",
    "        \n",
    "        \"\"\"Returns the appropriate score for a decision triplet.\n",
    "        Parameters\n",
    "        ----------\n",
    "        pair: tuple(Action, Action, Action)\n",
    "            A pair actions for three players, for example (C, C, C).\n",
    "        Returns\n",
    "        -------\n",
    "        tuple of int or float\n",
    "            Scores for three players resulting from their actions.\n",
    "        \"\"\"\n",
    "        \n",
    "        return self.scores[triple]"
   ]
  },
  {
   "cell_type": "markdown",
   "id": "63e27e08-af65-4ac4-8da5-51615643f290",
   "metadata": {},
   "source": [
    "## Match Design"
   ]
  },
  {
   "cell_type": "code",
   "execution_count": 40,
   "id": "672f482f",
   "metadata": {
    "tags": []
   },
   "outputs": [],
   "source": [
    "class Match(object):\n",
    "    \"\"\"The Match class conducts matches between three players.\"\"\"\n",
    "\n",
    "    def __init__(self, players, turns):\n",
    "        \"\"\"\n",
    "        Parameters\n",
    "        ----------\n",
    "        players : tuple\n",
    "            A triplet of player objects\n",
    "        turns : integer\n",
    "            The number of turns per match\n",
    "        \"\"\"\n",
    "        self.result = []\n",
    "        self.players = list(players)\n",
    "        self.turns = turns\n",
    "\n",
    "    def simultaneous_play(self, Player_1, Player_2, Player_3):\n",
    "        \n",
    "        \"\"\"This pits three players against each other.\"\"\"\n",
    "        \n",
    "        s1, s2, s3 = Player_1.strategy(), Player_2.strategy(), Player_3.strategy()\n",
    "        Player_1.update_history(s1)\n",
    "        Player_2.update_history(s2)\n",
    "        Player_3.update_history(s3)\n",
    "        \n",
    "        Player_1._opponent_history.append((s2, s3))\n",
    "        Player_2._opponent_history.append((s1, s3))\n",
    "        Player_3._opponent_history.append((s1, s2))\n",
    "        \n",
    "        return s1, s2, s3\n",
    "                        \n",
    "    def play(self):\n",
    "        \n",
    "        \"\"\"\n",
    "        A list of the form:\n",
    "        e.g. for a 2 turn match:\n",
    "            [(C, C, C), (C, D, D)]\n",
    "        i.e. One entry per turn containing a triplet of actions.\n",
    "        \"\"\"\n",
    "        result = []\n",
    "        turns = self.turns\n",
    "        \n",
    "        for _ in range(turns):\n",
    "            plays = self.simultaneous_play(\n",
    "                self.players[0], self.players[1], self.players[2]\n",
    "            )\n",
    "            result.append(plays)\n",
    "\n",
    "        self.result = result\n",
    "        return result\n",
    "\n",
    "    \n",
    "    \n"
   ]
  },
  {
   "cell_type": "code",
   "execution_count": 13,
   "id": "d12330c4-8036-48c2-8b72-04759ea0b071",
   "metadata": {
    "jupyter": {
     "source_hidden": true
    },
    "tags": []
   },
   "outputs": [],
   "source": [
    "def compute_scores(interactions, game=None):\n",
    "    \"\"\"Returns the scores of a given set of interactions.\"\"\"\n",
    "    if not game:\n",
    "        game = Game()\n",
    "    return [game.score(plays) for plays in interactions]"
   ]
  },
  {
   "cell_type": "markdown",
   "id": "da7073a3-d2ee-4e2a-afbe-e2eb91dca275",
   "metadata": {},
   "source": [
    "## Playing a Match -"
   ]
  },
  {
   "cell_type": "code",
   "execution_count": 64,
   "id": "a5b25e85",
   "metadata": {},
   "outputs": [
    {
     "data": {
      "text/plain": [
       "array([ 39,  99, 177])"
      ]
     },
     "execution_count": 64,
     "metadata": {},
     "output_type": "execute_result"
    }
   ],
   "source": [
    "Player_1 = Cooperator()\n",
    "Player_2 = Random()\n",
    "Player_3 = Defector()\n",
    "\n",
    "Players = [Player_1, Player_2, Player_3]\n",
    "\n",
    "match = Match(Players,25)\n",
    "interactions = match.play()\n",
    "\n",
    "compute_scores(interactions)\n",
    "\n",
    "final_scores= array(compute_scores(interactions))\n",
    "sum(final_scores, 0)"
   ]
  },
  {
   "cell_type": "code",
   "execution_count": null,
   "id": "9009ede4",
   "metadata": {},
   "outputs": [],
   "source": [
    "def score_per_round(sum_of_scores):\n",
    "    multiplied_list = element * (1/25) for element in sum_of_scores\n",
    "    return multiplied_list"
   ]
  },
  {
   "cell_type": "code",
   "execution_count": 82,
   "id": "b3639537-22c0-41c3-8142-7bb2eb8bae0d",
   "metadata": {},
   "outputs": [
    {
     "data": {
      "image/png": "[encoded data removed]",
      "text/plain": [
       "<Figure size 720x504 with 1 Axes>"
      ]
     },
     "metadata": {
      "needs_background": "light"
     },
     "output_type": "display_data"
    }
   ],
   "source": [
    "import matplotlib.pyplot as plt\n",
    "import numpy as np\n",
    "\n",
    "Alternator = (151 / 25, 69 / 25, 15 / 25, 151 / 25, 99 / 25, 63 / 25)\n",
    "TitForTat = (151 / 25, 108 / 25, 75 / 25, 151 / 25, 123 / 25, 103 / 25)\n",
    "Cooperator = (79 / 25, 85 / 25, 39 / 25, 85 / 25, 3 / 25, 39 / 25)\n",
    "Random = (83 / 25, 151 / 25, 53 / 25, 151 / 25, 8 / 25, 99 / 25)\n",
    "Defector = (81 / 25, 177 / 25, 137 / 25, 129 / 25, 109 / 25, 177 / 25)\n",
    "data = [Alternator, TitForTat, Cooperator, Random, Defector]\n",
    " \n",
    "fig = plt.figure(figsize =(10, 7))\n",
    " \n",
    "# Creating axes instance\n",
    "ax = fig.add_axes([0, 0, 1, 1])\n",
    " \n",
    "# Creating plot\n",
    "x = [\"Alternator\",\"TitForTat\",\"Cooperator\",\"Random\",\"Defector\"]\n",
    "bp = ax.boxplot(data)\n",
    "\n",
    "plt.title(\"Mean Score Per-Turn for a 25 Round Tournament Between 6 Strategies\", fontsize=15)\n",
    "\n",
    "plt.ylabel('Score Per-Turn', fontsize=15)\n",
    "plt.xticks([1, 2, 3, 4, 5], [\"Alternator\",\"TitForTat\",\"Cooperator\",\"Random\",\"Defector\"])\n",
    "# show plot\n",
    "plt.show()\n"
   ]
  },
  {
   "cell_type": "code",
   "execution_count": null,
   "id": "7396777a",
   "metadata": {},
   "outputs": [],
   "source": []
  },
  {
   "cell_type": "code",
   "execution_count": null,
   "id": "1f05a170-d6aa-4ad6-ac29-4817d0eb256e",
   "metadata": {},
   "outputs": [],
   "source": []
  }
 ],
 "metadata": {
  "kernelspec": {
   "display_name": "Python 3 (ipykernel)",
   "language": "python",
   "name": "python3"
  },
  "language_info": {
   "codemirror_mode": {
    "name": "ipython",
    "version": 3
   },
   "file_extension": ".py",
   "mimetype": "text/x-python",
   "name": "python",
   "nbconvert_exporter": "python",
   "pygments_lexer": "ipython3",
   "version": "3.9.7"
  }
 },
 "nbformat": 4,
 "nbformat_minor": 5
}
